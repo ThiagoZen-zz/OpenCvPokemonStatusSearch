{
 "cells": [
  {
   "cell_type": "code",
   "execution_count": 1,
   "id": "121d2fcb",
   "metadata": {},
   "outputs": [],
   "source": [
    "import pytesseract\n",
    "import cv2\n",
    "import matplotlib.pyplot as plt\n",
    "from PIL import Image\n",
    "import pyautogui\n",
    "import numpy as np\n",
    "import time\n",
    "from IPython.display import clear_output\n",
    "import pandas as pd\n",
    "from tabulate import tabulate\n",
    "import re"
   ]
  },
  {
   "cell_type": "code",
   "execution_count": 2,
   "id": "128bffc3",
   "metadata": {},
   "outputs": [],
   "source": [
    "pytesseract.pytesseract.tesseract = r'C:\\\\Program Files\\\\Tesseract-OCR'"
   ]
  },
  {
   "cell_type": "markdown",
   "id": "8d9068ed",
   "metadata": {},
   "source": [
    "## Legends Arceus Pokemons"
   ]
  },
  {
   "cell_type": "code",
   "execution_count": 3,
   "id": "b8f345d6",
   "metadata": {},
   "outputs": [],
   "source": [
    "X = 150\n",
    "Y = 200\n",
    "\n",
    "offsetx= 1973\n",
    "offsety= 318\n",
    "sizex= X\n",
    "sizey= Y"
   ]
  },
  {
   "cell_type": "code",
   "execution_count": 4,
   "id": "d0b23bed",
   "metadata": {},
   "outputs": [],
   "source": [
    "data = pd.read_csv('PokemonDb.csv')\n",
    "FilteredData = data"
   ]
  },
  {
   "cell_type": "code",
   "execution_count": 5,
   "id": "234f0ee0",
   "metadata": {},
   "outputs": [],
   "source": [
    "def SearchForStatus(name):\n",
    "    NameFound = FilteredData.loc[FilteredData['Name'].str.contains(name.title(), case=False)]\n",
    "    if NameFound.empty:\n",
    "        return \"\"\n",
    "    else:\n",
    "        return tabulate(NameFound, headers='keys', tablefmt='psql')"
   ]
  },
  {
   "cell_type": "code",
   "execution_count": 6,
   "id": "b04716c7",
   "metadata": {},
   "outputs": [],
   "source": [
    "def SearchForPokemon(name):\n",
    "    NameFound = FilteredData.loc[FilteredData['Name'] == name]\n",
    "    if NameFound.empty:\n",
    "        return \"\"\n",
    "    else:\n",
    "        return name"
   ]
  },
  {
   "cell_type": "code",
   "execution_count": 9,
   "id": "1de59a6f",
   "metadata": {
    "scrolled": true
   },
   "outputs": [
    {
     "name": "stdout",
     "output_type": "stream",
     "text": [
      "+------+----------+---------------+---------+---------+---------+------+----------+-----------+----------+----------+---------+\n",
      "|      | Name     | Variation     | Type1   |   Type2 |   Total |   HP |   Attack |   Defense |   Sp.Atk |   Sp.Def |   Speed |\n",
      "|------+----------+---------------+---------+---------+---------+------+----------+-----------+----------+----------+---------|\n",
      "|  648 | Basculin | Red-Striped   | Water   |     nan |     460 |   70 |       92 |        65 |       80 |       55 |      98 |\n",
      "|  649 | Basculin | Blue-Striped  | Water   |     nan |     460 |   70 |       92 |        65 |       80 |       55 |      98 |\n",
      "| 1066 | Basculin | White-Striped | Water   |     nan |     460 |   70 |       92 |        65 |       80 |       55 |      98 |\n",
      "+------+----------+---------------+---------+---------+---------+------+----------+-----------+----------+----------+---------+\n"
     ]
    },
    {
     "ename": "KeyboardInterrupt",
     "evalue": "",
     "output_type": "error",
     "traceback": [
      "\u001b[1;31m---------------------------------------------------------------------------\u001b[0m",
      "\u001b[1;31mKeyboardInterrupt\u001b[0m                         Traceback (most recent call last)",
      "\u001b[1;32m~\\AppData\\Local\\Temp/ipykernel_6488/339770112.py\u001b[0m in \u001b[0;36m<module>\u001b[1;34m\u001b[0m\n\u001b[0;32m     36\u001b[0m                 \u001b[0mprint\u001b[0m\u001b[1;33m(\u001b[0m\u001b[0mSearchForStatus\u001b[0m\u001b[1;33m(\u001b[0m\u001b[0mnames\u001b[0m\u001b[1;33m)\u001b[0m\u001b[1;33m)\u001b[0m\u001b[1;33m\u001b[0m\u001b[1;33m\u001b[0m\u001b[0m\n\u001b[0;32m     37\u001b[0m                 \u001b[0moldFoundNames\u001b[0m \u001b[1;33m=\u001b[0m \u001b[0mfoundNames\u001b[0m\u001b[1;33m\u001b[0m\u001b[1;33m\u001b[0m\u001b[0m\n\u001b[1;32m---> 38\u001b[1;33m     \u001b[0mtime\u001b[0m\u001b[1;33m.\u001b[0m\u001b[0msleep\u001b[0m\u001b[1;33m(\u001b[0m\u001b[1;36m5\u001b[0m\u001b[1;33m)\u001b[0m\u001b[1;33m\u001b[0m\u001b[1;33m\u001b[0m\u001b[0m\n\u001b[0m\u001b[0;32m     39\u001b[0m \u001b[1;33m\u001b[0m\u001b[0m\n",
      "\u001b[1;31mKeyboardInterrupt\u001b[0m: "
     ]
    }
   ],
   "source": [
    "oldFoundNames = []\n",
    "while True:\n",
    "    img = pyautogui.screenshot(region=(offsetx, offsety, sizex, sizey))\n",
    "    #img.convert(\"L\").save(r\"EnemyName.png\")\n",
    "    #img = cv2.imread('EnemyName.png')\n",
    "    open_cv_image = np.array(img) \n",
    "    open_cv_image = open_cv_image[:, :, ::-1].copy()\n",
    "    gray = cv2.cvtColor(open_cv_image, cv2.COLOR_BGR2GRAY)\n",
    "    inv = (255-gray)\n",
    "    #cv2.imwrite(r\"AAA.png\", inv)\n",
    "    \n",
    "    img2char = pytesseract.image_to_string(inv)\n",
    "\n",
    "    clearString = \"\"\n",
    "    foundNames = []\n",
    "    \n",
    "    for character in img2char:\n",
    "        if character.isalnum():\n",
    "            clearString += character\n",
    "\n",
    "    identifiedStrings = re.findall('[A-Z][^A-Z]*', clearString)\n",
    "    identifiedStrings = pd.DataFrame(identifiedStrings) \n",
    "    if(identifiedStrings.empty):\n",
    "        pass\n",
    "    else:\n",
    "        uniqueStrings = identifiedStrings[0].unique()\n",
    "\n",
    "        for strings in uniqueStrings:\n",
    "            foundNames.append(SearchForPokemon(strings))\n",
    "\n",
    "        foundNames = list(filter(None, foundNames))\n",
    "\n",
    "        if(oldFoundNames != foundNames):\n",
    "            clear_output(wait=True)\n",
    "            for names in foundNames:\n",
    "                print(SearchForStatus(names))\n",
    "                oldFoundNames = foundNames\n",
    "    time.sleep(5)\n",
    "    "
   ]
  },
  {
   "cell_type": "markdown",
   "id": "f7bfd81a",
   "metadata": {},
   "source": [
    "### Verificar Posição da tela"
   ]
  },
  {
   "cell_type": "code",
   "execution_count": null,
   "id": "2388e1fb",
   "metadata": {},
   "outputs": [],
   "source": [
    "#time.sleep(2)\n",
    "#pyautogui.position()"
   ]
  }
 ],
 "metadata": {
  "kernelspec": {
   "display_name": "Python 3 (ipykernel)",
   "language": "python",
   "name": "python3"
  },
  "language_info": {
   "codemirror_mode": {
    "name": "ipython",
    "version": 3
   },
   "file_extension": ".py",
   "mimetype": "text/x-python",
   "name": "python",
   "nbconvert_exporter": "python",
   "pygments_lexer": "ipython3",
   "version": "3.9.7"
  }
 },
 "nbformat": 4,
 "nbformat_minor": 5
}
